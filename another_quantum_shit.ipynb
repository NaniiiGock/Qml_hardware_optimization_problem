{
  "nbformat": 4,
  "nbformat_minor": 0,
  "metadata": {
    "colab": {
      "provenance": [],
      "authorship_tag": "ABX9TyMfm4mCEub1Xpgc6Zg5Iro0",
      "include_colab_link": true
    },
    "kernelspec": {
      "name": "python3",
      "display_name": "Python 3"
    },
    "language_info": {
      "name": "python"
    }
  },
  "cells": [
    {
      "cell_type": "markdown",
      "metadata": {
        "id": "view-in-github",
        "colab_type": "text"
      },
      "source": [
        "<a href=\"https://colab.research.google.com/github/ruiite/Qml_hardware_optimization_problem/blob/main/another_quantum_shit.ipynb\" target=\"_parent\"><img src=\"https://colab.research.google.com/assets/colab-badge.svg\" alt=\"Open In Colab\"/></a>"
      ]
    },
    {
      "cell_type": "code",
      "source": [
        "!pip install pylatexenc"
      ],
      "metadata": {
        "colab": {
          "base_uri": "https://localhost:8080/"
        },
        "id": "3-6tp2h91lB2",
        "outputId": "d67cb93d-6f20-47a9-b8b8-a08d1a10f224"
      },
      "execution_count": null,
      "outputs": [
        {
          "output_type": "stream",
          "name": "stdout",
          "text": [
            "Requirement already satisfied: pylatexenc in /usr/local/lib/python3.10/dist-packages (2.10)\n"
          ]
        }
      ]
    },
    {
      "cell_type": "code",
      "execution_count": null,
      "metadata": {
        "id": "s1S-bLX5rzOu"
      },
      "outputs": [],
      "source": [
        "import qiskit\n",
        "import numpy as np"
      ]
    },
    {
      "cell_type": "code",
      "source": [
        "image_size = 9\n",
        "qubits_num = 5"
      ],
      "metadata": {
        "id": "PzAfufFdvH4E"
      },
      "execution_count": null,
      "outputs": []
    },
    {
      "cell_type": "code",
      "source": [],
      "metadata": {
        "id": "JcuT2mn7vtrB"
      },
      "execution_count": null,
      "outputs": []
    },
    {
      "cell_type": "code",
      "source": [
        "def create_scheme(image, qubits_num):\n",
        "\n",
        "  qc = qiskit.QuantumCircuit(qubits_num)\n",
        "  for i in range(image_size):\n",
        "    rotation = [\"rx\", \"ry\", \"rz\"][i//qubits_num]\n",
        "    #print(f\"qc.{rotation}({image[i]}, {i%qubits_num})\", sep = '\\n')\n",
        "    eval(f\"qc.{rotation}({image[i]}, {i%qubits_num})\")\n",
        "\n",
        "  return qc\n",
        "\n",
        "image1 = np.random.randint(2 , size = 16)\n",
        "qc = create_scheme(image1, qubits_num)\n",
        "print(image1)\n",
        "qc.draw(output ='mpl')"
      ],
      "metadata": {
        "colab": {
          "base_uri": "https://localhost:8080/",
          "height": 401
        },
        "id": "myHLhuePtQi6",
        "outputId": "74998908-9662-4ffd-d85e-eeaddc78c907"
      },
      "execution_count": null,
      "outputs": [
        {
          "output_type": "stream",
          "name": "stdout",
          "text": [
            "[0 0 1 0 1 0 1 0 0 1 0 0 0 1 0 0]\n"
          ]
        },
        {
          "output_type": "execute_result",
          "data": {
            "text/plain": [
              "<Figure size 287.496x451.5 with 1 Axes>"
            ],
            "image/png": "[encoded data removed]"
          },
          "metadata": {},
          "execution_count": 17
        }
      ]
    },
    {
      "cell_type": "code",
      "source": [
        "from qiskit import QuantumCircuit, Aer, assemble\n",
        "import numpy as np\n",
        "from qiskit.circuit.library import StatePreparation\n",
        "from qiskit.quantum_info import Statevector"
      ],
      "metadata": {
        "id": "bR0WuV9FvvTB"
      },
      "execution_count": null,
      "outputs": []
    },
    {
      "cell_type": "code",
      "source": [
        "qc = QuantumCircuit(4)\n",
        "image = np.random.randint(2, size=16)\n",
        "norm_image = image/(np.linalg.norm(image))\n",
        "qc.prepare_state(norm_image)\n",
        "qc.decompose(reps = 10).draw(output = 'mpl')\n",
        "#qc.draw(output ='mpl')\n",
        "\n",
        "ket = Statevector(qc)\n",
        "display(ket.draw(output ='latex'))"
      ],
      "metadata": {
        "colab": {
          "base_uri": "https://localhost:8080/",
          "height": 38
        },
        "id": "mkh3FBX98ruz",
        "outputId": "5d8d2f85-1cb4-4f79-ed7e-8af8d15a74af"
      },
      "execution_count": null,
      "outputs": [
        {
          "output_type": "display_data",
          "data": {
            "text/plain": [
              "<IPython.core.display.Latex object>"
            ],
            "text/latex": "$$\\frac{1}{3} |0000\\rangle+\\frac{1}{3} |0010\\rangle+\\frac{1}{3} |0011\\rangle+\\frac{1}{3} |0101\\rangle+\\frac{1}{3} |0111\\rangle+\\frac{1}{3} |1000\\rangle+\\frac{1}{3} |1010\\rangle+\\frac{1}{3} |1011\\rangle+\\frac{1}{3} |1100\\rangle$$"
          },
          "metadata": {}
        }
      ]
    }
  ]
}